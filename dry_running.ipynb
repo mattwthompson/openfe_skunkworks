{
 "cells": [
  {
   "cell_type": "code",
   "execution_count": 1,
   "id": "acaa928b-ec8f-4609-9cb0-12879cba0135",
   "metadata": {},
   "outputs": [],
   "source": [
    "import numpy as np\n",
    "import openfe\n",
    "import openmm\n",
    "from openfe_skunkworks.protocols import openmm_afe\n",
    "from openff.toolkit import Molecule\n",
    "\n",
    "import openmmtools.states"
   ]
  },
  {
   "cell_type": "code",
   "execution_count": 2,
   "id": "72a6448e-75c4-45e4-b0fd-f8e73949ac7a",
   "metadata": {},
   "outputs": [],
   "source": [
    "ligand = Molecule.from_smiles(\"COC(=O)c1ccccc1\")\n",
    "ligand.generate_conformers(n_conformers=1)\n",
    "ligand.to_file(\"ligand.sdf\", file_format=\"sdf\")"
   ]
  },
  {
   "cell_type": "code",
   "execution_count": 3,
   "id": "4b43ff62-1d5f-4ddc-a361-249fa8080d00",
   "metadata": {},
   "outputs": [],
   "source": [
    "solvent = openfe.SolventComponent(smiles='O')\n",
    "small_molecule = openfe.SmallMoleculeComponent.from_sdf_file('./ligand.sdf')\n",
    "\n",
    "cs_solvent = openfe.ChemicalSystem({'solvent': solvent}, name='solvent system')\n",
    "cs_ligand = openfe.ChemicalSystem({'solvent': solvent, 'ligand': small_molecule}, name='solvated small molecule')"
   ]
  },
  {
   "cell_type": "code",
   "execution_count": 4,
   "id": "d4ecc6a1-d6a7-429c-8b52-96e1d768daf8",
   "metadata": {},
   "outputs": [],
   "source": [
    "from openfe_skunkworks.protocols.openmm_utils.omm_settings import PackmolSolvationSettings\n",
    "\n",
    "settings = openmm_afe.AbsoluteSolvationProtocol.default_settings()\n",
    "settings.protocol_repeats = 1\n",
    "\n",
    "alt_settings = openmm_afe.AbsoluteSolvationProtocol.default_settings()\n",
    "alt_settings.protocol_repeats = 1\n",
    "alt_settings.solvation_settings = PackmolSolvationSettings()"
   ]
  },
  {
   "cell_type": "code",
   "execution_count": 5,
   "id": "51187dfc-ec3c-4e9a-9738-9e314023f9e1",
   "metadata": {},
   "outputs": [],
   "source": [
    "protocol = openmm_afe.AbsoluteSolvationProtocol(settings)\n",
    "alt_protocol = openmm_afe.AbsoluteSolvationProtocol(alt_settings)"
   ]
  },
  {
   "cell_type": "code",
   "execution_count": 6,
   "id": "b7510195-1f64-4b9b-b298-c7fe142beb1d",
   "metadata": {},
   "outputs": [],
   "source": [
    "transformation = openfe.Transformation(\n",
    "    stateA=cs_ligand,\n",
    "    stateB=cs_solvent,\n",
    "    mapping=None,\n",
    "    protocol=protocol\n",
    ")\n",
    "alt_transformation = openfe.Transformation(\n",
    "    stateA=cs_ligand,\n",
    "    stateB=cs_solvent,\n",
    "    mapping=None,\n",
    "    protocol=alt_protocol\n",
    ")"
   ]
  },
  {
   "cell_type": "code",
   "execution_count": 7,
   "id": "33ccd808-3ee9-46c0-9eed-9d162126c045",
   "metadata": {},
   "outputs": [],
   "source": [
    "def System_from_Unit(unit) -> openmm.System:\n",
    "    \"\"\"Get a OpenMM System from a openfe ProtocolUnit\"\"\"\n",
    "    # do a dry run, this returns the openmmtools ReplicaExchangeSampler object\n",
    "    debug = unit.run(dry=True)\n",
    "    sampler = debug['debug']['sampler']\n",
    "\n",
    "    # there's 13 replicas, but Forces on all should be identical\n",
    "    replica = 0\n",
    "\n",
    "    # unpack a single System\n",
    "    # this follows the logic in MultistateSampler._compute_replica_energies\n",
    "    neighborhood = sampler._neighborhood(replica)\n",
    "    energy_neighborhood_states = np.zeros(len(neighborhood))\n",
    "    neighborhood_thermodynamic_states = [sampler._thermodynamic_states[i] for i in neighborhood]\n",
    "    \n",
    "    sampler_state = sampler._sampler_states[replica]\n",
    "    \n",
    "    energies = energy_neighborhood_states\n",
    "    the_states = neighborhood_thermodynamic_states\n",
    "    \n",
    "    compatible_groups, original_indices = openmmtools.states.group_by_compatibility(the_states)\n",
    "    compatible_group, state_indices = compatible_groups[0], original_indices[0]\n",
    "    context, integrator = sampler.energy_context_cache.get_context(compatible_group[0])\n",
    "    system = context.getSystem()\n",
    "\n",
    "    return system\n",
    "\n",
    "\n",
    "def get_system_from_Transformation(trans) -> tuple[openmm.System, openmm.System]:\n",
    "    \"\"\"Get a pair of OpenMM Systems from a Transformation object\"\"\"\n",
    "    dag = trans.create()\n",
    "    \n",
    "    # the directed-acyclic-graph contains work units\n",
    "    dag.protocol_units\n",
    "\n",
    "    # we set this to 1 repeat, so there's a vacuum and solvent leg\n",
    "    vac_unit, solv_unit = dag.protocol_units\n",
    "    \n",
    "    return System_from_Unit(vac_unit), System_from_Unit(solv_unit)"
   ]
  },
  {
   "cell_type": "code",
   "execution_count": 8,
   "id": "51ce25c3-d63a-4bdb-af4a-161046182177",
   "metadata": {
    "scrolled": true
   },
   "outputs": [
    {
     "name": "stdout",
     "output_type": "stream",
     "text": [
      "Using OpenMM solvation routine\n"
     ]
    },
    {
     "name": "stderr",
     "output_type": "stream",
     "text": [
      "/Users/mattthompson/micromamba/envs/skunkworks-dev/lib/python3.11/site-packages/openfe/protocols/openmm_rfe/_rfe_utils/compute.py:56: UserWarning: Non-GPU platform selected: CPU, this may significantly impact simulation performance\n",
      "  warnings.warn(wmsg)\n",
      "WARNING:root:Non-GPU platform selected: CPU, this may significantly impact simulation performance\n",
      "WARNING:openmmtools.multistate.multistatereporter:Warning: The openmmtools.multistate API is experimental and may change in future releases\n",
      "WARNING:root:Non-GPU platform selected: CPU, this may significantly impact simulation performance\n",
      "WARNING:openmmtools.multistate.multistatesampler:Warning: The openmmtools.multistate API is experimental and may change in future releases\n"
     ]
    },
    {
     "name": "stdout",
     "output_type": "stream",
     "text": [
      "Please cite the following:\n",
      "\n",
      "        Friedrichs MS, Eastman P, Vaidyanathan V, Houston M, LeGrand S, Beberg AL, Ensign DL, Bruns CM, and Pande VS. Accelerating molecular dynamic simulations on graphics processing unit. J. Comput. Chem. 30:864, 2009. DOI: 10.1002/jcc.21209\n",
      "        Eastman P and Pande VS. OpenMM: A hardware-independent framework for molecular simulations. Comput. Sci. Eng. 12:34, 2010. DOI: 10.1109/MCSE.2010.27\n",
      "        Eastman P and Pande VS. Efficient nonbonded interactions for molecular dynamics on a graphics processing unit. J. Comput. Chem. 31:1268, 2010. DOI: 10.1002/jcc.21413\n",
      "        Eastman P and Pande VS. Constant constraint matrix approximation: A robust, parallelizable constraint method for molecular simulations. J. Chem. Theor. Comput. 6:434, 2010. DOI: 10.1021/ct900463w\n",
      "        Chodera JD and Shirts MR. Replica exchange and expanded ensemble simulations as Gibbs multistate: Simple improvements for enhanced mixing. J. Chem. Phys., 135:194110, 2011. DOI:10.1063/1.3660669\n",
      "        \n",
      "Using OpenMM solvation routine\n"
     ]
    },
    {
     "name": "stderr",
     "output_type": "stream",
     "text": [
      "/Users/mattthompson/micromamba/envs/skunkworks-dev/lib/python3.11/site-packages/openfe/protocols/openmm_rfe/_rfe_utils/compute.py:56: UserWarning: Non-GPU platform selected: CPU, this may significantly impact simulation performance\n",
      "  warnings.warn(wmsg)\n",
      "WARNING:root:Non-GPU platform selected: CPU, this may significantly impact simulation performance\n",
      "WARNING:openmmtools.multistate.multistatereporter:Warning: The openmmtools.multistate API is experimental and may change in future releases\n",
      "WARNING:root:Non-GPU platform selected: CPU, this may significantly impact simulation performance\n",
      "WARNING:openmmtools.multistate.multistatesampler:Warning: The openmmtools.multistate API is experimental and may change in future releases\n"
     ]
    },
    {
     "name": "stdout",
     "output_type": "stream",
     "text": [
      "Please cite the following:\n",
      "\n",
      "        Friedrichs MS, Eastman P, Vaidyanathan V, Houston M, LeGrand S, Beberg AL, Ensign DL, Bruns CM, and Pande VS. Accelerating molecular dynamic simulations on graphics processing unit. J. Comput. Chem. 30:864, 2009. DOI: 10.1002/jcc.21209\n",
      "        Eastman P and Pande VS. OpenMM: A hardware-independent framework for molecular simulations. Comput. Sci. Eng. 12:34, 2010. DOI: 10.1109/MCSE.2010.27\n",
      "        Eastman P and Pande VS. Efficient nonbonded interactions for molecular dynamics on a graphics processing unit. J. Comput. Chem. 31:1268, 2010. DOI: 10.1002/jcc.21413\n",
      "        Eastman P and Pande VS. Constant constraint matrix approximation: A robust, parallelizable constraint method for molecular simulations. J. Chem. Theor. Comput. 6:434, 2010. DOI: 10.1021/ct900463w\n",
      "        Chodera JD and Shirts MR. Replica exchange and expanded ensemble simulations as Gibbs multistate: Simple improvements for enhanced mixing. J. Chem. Phys., 135:194110, 2011. DOI:10.1063/1.3660669\n",
      "        \n"
     ]
    }
   ],
   "source": [
    "vac_sys, solv_sys = get_system_from_Transformation(transformation)\n",
    "\n",
    "with open(\"vac.xml\", \"w\") as f:\n",
    "    f.write(openmm.XmlSerializer.serialize(vac_sys))\n",
    "\n",
    "with open(\"solv.xml\", \"w\") as f:\n",
    "    f.write(openmm.XmlSerializer.serialize(solv_sys))"
   ]
  },
  {
   "cell_type": "code",
   "execution_count": 9,
   "id": "ed4db38c-df3b-461a-b4b9-8758c17553a9",
   "metadata": {},
   "outputs": [
    {
     "name": "stdout",
     "output_type": "stream",
     "text": [
      "Using Interchange solvation routine\n"
     ]
    },
    {
     "name": "stderr",
     "output_type": "stream",
     "text": [
      "/Users/mattthompson/micromamba/envs/skunkworks-dev/lib/python3.11/site-packages/openfe/protocols/openmm_rfe/_rfe_utils/compute.py:56: UserWarning: Non-GPU platform selected: CPU, this may significantly impact simulation performance\n",
      "  warnings.warn(wmsg)\n",
      "WARNING:root:Non-GPU platform selected: CPU, this may significantly impact simulation performance\n",
      "WARNING:openmmtools.multistate.multistatereporter:Warning: The openmmtools.multistate API is experimental and may change in future releases\n",
      "WARNING:root:Non-GPU platform selected: CPU, this may significantly impact simulation performance\n",
      "WARNING:openmmtools.multistate.multistatesampler:Warning: The openmmtools.multistate API is experimental and may change in future releases\n"
     ]
    },
    {
     "name": "stdout",
     "output_type": "stream",
     "text": [
      "Please cite the following:\n",
      "\n",
      "        Friedrichs MS, Eastman P, Vaidyanathan V, Houston M, LeGrand S, Beberg AL, Ensign DL, Bruns CM, and Pande VS. Accelerating molecular dynamic simulations on graphics processing unit. J. Comput. Chem. 30:864, 2009. DOI: 10.1002/jcc.21209\n",
      "        Eastman P and Pande VS. OpenMM: A hardware-independent framework for molecular simulations. Comput. Sci. Eng. 12:34, 2010. DOI: 10.1109/MCSE.2010.27\n",
      "        Eastman P and Pande VS. Efficient nonbonded interactions for molecular dynamics on a graphics processing unit. J. Comput. Chem. 31:1268, 2010. DOI: 10.1002/jcc.21413\n",
      "        Eastman P and Pande VS. Constant constraint matrix approximation: A robust, parallelizable constraint method for molecular simulations. J. Chem. Theor. Comput. 6:434, 2010. DOI: 10.1021/ct900463w\n",
      "        Chodera JD and Shirts MR. Replica exchange and expanded ensemble simulations as Gibbs multistate: Simple improvements for enhanced mixing. J. Chem. Phys., 135:194110, 2011. DOI:10.1063/1.3660669\n",
      "        \n",
      "Using Interchange solvation routine\n"
     ]
    },
    {
     "name": "stderr",
     "output_type": "stream",
     "text": [
      "/Users/mattthompson/micromamba/envs/skunkworks-dev/lib/python3.11/site-packages/openfe/protocols/openmm_rfe/_rfe_utils/compute.py:56: UserWarning: Non-GPU platform selected: CPU, this may significantly impact simulation performance\n",
      "  warnings.warn(wmsg)\n",
      "WARNING:root:Non-GPU platform selected: CPU, this may significantly impact simulation performance\n",
      "WARNING:openmmtools.multistate.multistatereporter:Warning: The openmmtools.multistate API is experimental and may change in future releases\n",
      "WARNING:root:Non-GPU platform selected: CPU, this may significantly impact simulation performance\n",
      "WARNING:openmmtools.multistate.multistatesampler:Warning: The openmmtools.multistate API is experimental and may change in future releases\n"
     ]
    },
    {
     "name": "stdout",
     "output_type": "stream",
     "text": [
      "Please cite the following:\n",
      "\n",
      "        Friedrichs MS, Eastman P, Vaidyanathan V, Houston M, LeGrand S, Beberg AL, Ensign DL, Bruns CM, and Pande VS. Accelerating molecular dynamic simulations on graphics processing unit. J. Comput. Chem. 30:864, 2009. DOI: 10.1002/jcc.21209\n",
      "        Eastman P and Pande VS. OpenMM: A hardware-independent framework for molecular simulations. Comput. Sci. Eng. 12:34, 2010. DOI: 10.1109/MCSE.2010.27\n",
      "        Eastman P and Pande VS. Efficient nonbonded interactions for molecular dynamics on a graphics processing unit. J. Comput. Chem. 31:1268, 2010. DOI: 10.1002/jcc.21413\n",
      "        Eastman P and Pande VS. Constant constraint matrix approximation: A robust, parallelizable constraint method for molecular simulations. J. Chem. Theor. Comput. 6:434, 2010. DOI: 10.1021/ct900463w\n",
      "        Chodera JD and Shirts MR. Replica exchange and expanded ensemble simulations as Gibbs multistate: Simple improvements for enhanced mixing. J. Chem. Phys., 135:194110, 2011. DOI:10.1063/1.3660669\n",
      "        \n"
     ]
    }
   ],
   "source": [
    "alt_vac_sys, alt_solv_sys = get_system_from_Transformation(alt_transformation)\n",
    "\n",
    "with open(\"vac_alt.xml\", \"w\") as f:\n",
    "    f.write(openmm.XmlSerializer.serialize(alt_vac_sys))\n",
    "\n",
    "with open(\"solv_alt.xml\", \"w\") as f:\n",
    "    f.write(openmm.XmlSerializer.serialize(alt_solv_sys))"
   ]
  }
 ],
 "metadata": {
  "kernelspec": {
   "display_name": "Python 3 (ipykernel)",
   "language": "python",
   "name": "python3"
  },
  "language_info": {
   "codemirror_mode": {
    "name": "ipython",
    "version": 3
   },
   "file_extension": ".py",
   "mimetype": "text/x-python",
   "name": "python",
   "nbconvert_exporter": "python",
   "pygments_lexer": "ipython3",
   "version": "3.11.8"
  }
 },
 "nbformat": 4,
 "nbformat_minor": 5
}
